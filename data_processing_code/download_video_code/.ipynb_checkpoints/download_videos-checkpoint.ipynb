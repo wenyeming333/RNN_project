{
 "cells": [
  {
   "cell_type": "code",
   "execution_count": null,
   "metadata": {
    "collapsed": true
   },
   "outputs": [],
   "source": [
    "from __future__ import unicode_literals\n",
    "from __future__ import unicode_literals\n",
    "import youtube_dl\n",
    "import csv\n",
    "import numpy as np\n",
    "#from joblib import Parallel, delayed\n",
    "\n",
    "# directory paths\n",
    "filename = '/ais/gobi4/basketball/data/bball_dataset_april_4.csv'\n",
    "output_dir = '/ais/gobi4/basketball/data/videos/'\n",
    "num_cores = 10\n",
    "\n",
    "# read the csv file\n",
    "\n",
    "datta =[]\n",
    "with open(filename, 'rb') as csvfile:\n",
    "    csvreader = csv.reader(csvfile)\n",
    "    for row in csvreader:\n",
    "        datta.append(row)    \n",
    "\n",
    "\n",
    "# create the youtube urls\n",
    "\n",
    "url_prefix = 'http://www.youtube.com/watch?v='\n",
    "url_whole = []\n",
    "output_names = []\n",
    "height = []\n",
    "width = []\n",
    "for temp in datta:\n",
    "    url_whole.append(url_prefix+temp[0])\n",
    "    height.append(temp[2])\n",
    "    width.append(temp[1])\n",
    "    output_names.append(output_dir+temp[0]+'.%(ext)s')    \n",
    "\n",
    "# turn them to numpy arrays\n",
    "temp = np.unique(np.asarray(url_whole), return_index=True)\n",
    "url_whole = temp[0].tolist()\n",
    "height = np.array(height)[temp[1]].tolist()\n",
    "width = np.array(width)[temp[1]].tolist()\n",
    "output_names = np.array(output_names)[temp[1]].tolist()\n",
    "\n",
    "failed = []\n",
    "# download the videos\n",
    "for ii in range(len(url_whole)):\n",
    "    print 'Downloading Video ' + str(ii+1) + ' / ' + str(len(url_whole))\n",
    "    ydl_opts = {\n",
    "        'format': 'best[height='+height[ii]+'][width='+ width[ii]+']',\n",
    "        'outtmpl': output_names[ii]\n",
    "    }\n",
    "    \n",
    "    try:\n",
    "        with youtube_dl.YoutubeDL(ydl_opts) as ydl:\n",
    "            ydl.download([url_whole[ii]])\n",
    "    except:\n",
    "        print 'error: ' + url_whole[ii] + ' failed!'\n",
    "        failed.append(url_whole[ii])\n",
    "\n",
    "        \n",
    "print 'The following failed: '\n",
    "for temp in failed:\n",
    "    print temp\n",
    " "
   ]
  },
  {
   "cell_type": "code",
   "execution_count": 6,
   "metadata": {
    "collapsed": false
   },
   "outputs": [],
   "source": [
    "       \n",
    "# write the failed cases\n",
    "with open(output_dir+'failed.txt', 'w') as ff:\n",
    "    ff.write(\"\\n\".join(map(lambda x: str(x), failed)))"
   ]
  }
 ],
 "metadata": {
  "kernelspec": {
   "display_name": "Python 2",
   "language": "python",
   "name": "python2"
  },
  "language_info": {
   "codemirror_mode": {
    "name": "ipython",
    "version": 2
   },
   "file_extension": ".py",
   "mimetype": "text/x-python",
   "name": "python",
   "nbconvert_exporter": "python",
   "pygments_lexer": "ipython2",
   "version": "2.7.12"
  }
 },
 "nbformat": 4,
 "nbformat_minor": 0
}
