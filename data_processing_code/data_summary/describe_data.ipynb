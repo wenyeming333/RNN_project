{
 "cells": [
  {
   "cell_type": "code",
   "execution_count": 1,
   "metadata": {
    "collapsed": true
   },
   "outputs": [],
   "source": [
    "import pandas as pd\n",
    "from __future__ import division"
   ]
  },
  {
   "cell_type": "code",
   "execution_count": 2,
   "metadata": {
    "collapsed": true
   },
   "outputs": [],
   "source": [
    "filename = '/ais/gobi4/basketball/data/bball_dataset_april_4.csv'"
   ]
  },
  {
   "cell_type": "code",
   "execution_count": 16,
   "metadata": {
    "collapsed": false
   },
   "outputs": [],
   "source": [
    "header_names = ['YoutubeId', 'VidWidth', 'VidHeight', \n",
    "                'ClipStartTime', 'ClipEndTime', 'EventLable',\n",
    "               'EventEndTime', 'EventStartTime', 'EventStartBallX','EventStartBallY', 'TrainValOrTest']\n",
    "datta = pd.read_csv(filename, header=0, names=header_names)"
   ]
  },
  {
   "cell_type": "code",
   "execution_count": 19,
   "metadata": {
    "collapsed": false
   },
   "outputs": [
    {
     "data": {
      "text/html": [
       "<div>\n",
       "<table border=\"1\" class=\"dataframe\">\n",
       "  <thead>\n",
       "    <tr style=\"text-align: right;\">\n",
       "      <th></th>\n",
       "      <th>VidWidth</th>\n",
       "      <th>VidHeight</th>\n",
       "      <th>ClipStartTime</th>\n",
       "      <th>ClipEndTime</th>\n",
       "      <th>EventLable</th>\n",
       "      <th>EventEndTime</th>\n",
       "      <th>EventStartTime</th>\n",
       "      <th>EventStartBallX</th>\n",
       "    </tr>\n",
       "  </thead>\n",
       "  <tbody>\n",
       "    <tr>\n",
       "      <th>count</th>\n",
       "      <td>14547.000000</td>\n",
       "      <td>14547.000000</td>\n",
       "      <td>1.454700e+04</td>\n",
       "      <td>1.454700e+04</td>\n",
       "      <td>1.454700e+04</td>\n",
       "      <td>1.454700e+04</td>\n",
       "      <td>14547.000000</td>\n",
       "      <td>14547.000000</td>\n",
       "    </tr>\n",
       "    <tr>\n",
       "      <th>mean</th>\n",
       "      <td>524.090190</td>\n",
       "      <td>375.516601</td>\n",
       "      <td>2.151514e+06</td>\n",
       "      <td>2.185008e+06</td>\n",
       "      <td>1.515505e+06</td>\n",
       "      <td>2.171610e+06</td>\n",
       "      <td>0.151470</td>\n",
       "      <td>-0.002987</td>\n",
       "    </tr>\n",
       "    <tr>\n",
       "      <th>std</th>\n",
       "      <td>160.451548</td>\n",
       "      <td>73.113467</td>\n",
       "      <td>1.347357e+06</td>\n",
       "      <td>1.347054e+06</td>\n",
       "      <td>1.485056e+06</td>\n",
       "      <td>1.346887e+06</td>\n",
       "      <td>0.636206</td>\n",
       "      <td>0.544618</td>\n",
       "    </tr>\n",
       "    <tr>\n",
       "      <th>min</th>\n",
       "      <td>480.000000</td>\n",
       "      <td>360.000000</td>\n",
       "      <td>5.338670e+02</td>\n",
       "      <td>2.502500e+04</td>\n",
       "      <td>-1.000000e+00</td>\n",
       "      <td>3.154269e+03</td>\n",
       "      <td>-1.000000</td>\n",
       "      <td>-1.000000</td>\n",
       "    </tr>\n",
       "    <tr>\n",
       "      <th>25%</th>\n",
       "      <td>490.000000</td>\n",
       "      <td>360.000000</td>\n",
       "      <td>9.729053e+05</td>\n",
       "      <td>1.009575e+06</td>\n",
       "      <td>5.173038e+04</td>\n",
       "      <td>9.932087e+05</td>\n",
       "      <td>0.201333</td>\n",
       "      <td>0.115750</td>\n",
       "    </tr>\n",
       "    <tr>\n",
       "      <th>50%</th>\n",
       "      <td>490.000000</td>\n",
       "      <td>360.000000</td>\n",
       "      <td>2.122120e+06</td>\n",
       "      <td>2.153485e+06</td>\n",
       "      <td>1.129950e+06</td>\n",
       "      <td>2.139749e+06</td>\n",
       "      <td>0.425333</td>\n",
       "      <td>0.244782</td>\n",
       "    </tr>\n",
       "    <tr>\n",
       "      <th>75%</th>\n",
       "      <td>490.000000</td>\n",
       "      <td>360.000000</td>\n",
       "      <td>3.183180e+06</td>\n",
       "      <td>3.218265e+06</td>\n",
       "      <td>2.702393e+06</td>\n",
       "      <td>3.204421e+06</td>\n",
       "      <td>0.564000</td>\n",
       "      <td>0.330171</td>\n",
       "    </tr>\n",
       "    <tr>\n",
       "      <th>max</th>\n",
       "      <td>1280.000000</td>\n",
       "      <td>720.000000</td>\n",
       "      <td>6.731725e+06</td>\n",
       "      <td>6.754081e+06</td>\n",
       "      <td>6.746339e+06</td>\n",
       "      <td>6.748042e+06</td>\n",
       "      <td>0.910667</td>\n",
       "      <td>0.873665</td>\n",
       "    </tr>\n",
       "  </tbody>\n",
       "</table>\n",
       "</div>"
      ],
      "text/plain": [
       "           VidWidth     VidHeight  ClipStartTime   ClipEndTime    EventLable  \\\n",
       "count  14547.000000  14547.000000   1.454700e+04  1.454700e+04  1.454700e+04   \n",
       "mean     524.090190    375.516601   2.151514e+06  2.185008e+06  1.515505e+06   \n",
       "std      160.451548     73.113467   1.347357e+06  1.347054e+06  1.485056e+06   \n",
       "min      480.000000    360.000000   5.338670e+02  2.502500e+04 -1.000000e+00   \n",
       "25%      490.000000    360.000000   9.729053e+05  1.009575e+06  5.173038e+04   \n",
       "50%      490.000000    360.000000   2.122120e+06  2.153485e+06  1.129950e+06   \n",
       "75%      490.000000    360.000000   3.183180e+06  3.218265e+06  2.702393e+06   \n",
       "max     1280.000000    720.000000   6.731725e+06  6.754081e+06  6.746339e+06   \n",
       "\n",
       "       EventEndTime  EventStartTime  EventStartBallX  \n",
       "count  1.454700e+04    14547.000000     14547.000000  \n",
       "mean   2.171610e+06        0.151470        -0.002987  \n",
       "std    1.346887e+06        0.636206         0.544618  \n",
       "min    3.154269e+03       -1.000000        -1.000000  \n",
       "25%    9.932087e+05        0.201333         0.115750  \n",
       "50%    2.139749e+06        0.425333         0.244782  \n",
       "75%    3.204421e+06        0.564000         0.330171  \n",
       "max    6.748042e+06        0.910667         0.873665  "
      ]
     },
     "execution_count": 19,
     "metadata": {},
     "output_type": "execute_result"
    }
   ],
   "source": [
    "datta.describe()"
   ]
  },
  {
   "cell_type": "code",
   "execution_count": 39,
   "metadata": {
    "collapsed": false
   },
   "outputs": [
    {
     "data": {
      "text/plain": [
       "YoutubeId             NaN\n",
       "VidWidth              NaN\n",
       "VidHeight             NaN\n",
       "ClipStartTime         NaN\n",
       "ClipEndTime           NaN\n",
       "EventLable         3278.0\n",
       "EventEndTime          NaN\n",
       "EventStartTime     3278.0\n",
       "EventStartBallX    3278.0\n",
       "EventStartBallY       NaN\n",
       "TrainValOrTest        NaN\n",
       "dtype: float64"
      ]
     },
     "execution_count": 39,
     "metadata": {},
     "output_type": "execute_result"
    }
   ],
   "source": [
    "print 'Number of missing datapoints:'\n",
    "datta[datta == -1].sum(axis=0)*-1"
   ]
  },
  {
   "cell_type": "code",
   "execution_count": 40,
   "metadata": {
    "collapsed": false
   },
   "outputs": [
    {
     "name": "stdout",
     "output_type": "stream",
     "text": [
      "Percentage of missing datapoints:\n"
     ]
    },
    {
     "data": {
      "text/plain": [
       "YoutubeId               NaN\n",
       "VidWidth                NaN\n",
       "VidHeight               NaN\n",
       "ClipStartTime           NaN\n",
       "ClipEndTime             NaN\n",
       "EventLable         0.225339\n",
       "EventEndTime            NaN\n",
       "EventStartTime     0.225339\n",
       "EventStartBallX    0.225339\n",
       "EventStartBallY         NaN\n",
       "TrainValOrTest          NaN\n",
       "dtype: float64"
      ]
     },
     "execution_count": 40,
     "metadata": {},
     "output_type": "execute_result"
    }
   ],
   "source": [
    "print 'Percentage of missing datapoints:'\n",
    "(datta[datta == -1].sum(axis=0)*-1)/14547"
   ]
  }
 ],
 "metadata": {
  "kernelspec": {
   "display_name": "Python 2",
   "language": "python",
   "name": "python2"
  },
  "language_info": {
   "codemirror_mode": {
    "name": "ipython",
    "version": 2.0
   },
   "file_extension": ".py",
   "mimetype": "text/x-python",
   "name": "python",
   "nbconvert_exporter": "python",
   "pygments_lexer": "ipython2",
   "version": "2.7.12"
  }
 },
 "nbformat": 4,
 "nbformat_minor": 0
}